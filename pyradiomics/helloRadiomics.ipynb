{
 "cells": [
  {
   "cell_type": "markdown",
   "metadata": {},
   "source": [
    "# Hello Radiomics example: using the feature extractor to calculate features"
   ]
  },
  {
   "cell_type": "markdown",
   "metadata": {},
   "source": [
    "This example shows how to use the radiomics package and the feature extractor.\n",
    "The feature extractor handles preprocessing, and then calls the needed featureclasses to calculate the features.\n",
    "It is also possible to directly instantiate the feature classes. However, this is not recommended for use outside debugging or development. For more information, see `helloFeatureClass`."
   ]
  },
  {
   "cell_type": "code",
   "execution_count": 1,
   "metadata": {
    "collapsed": false
   },
   "outputs": [],
   "source": [
    "from __future__ import print_function\n",
    "import sys\n",
    "import os\n",
    "import logging\n",
    "import six\n",
    "from radiomics import featureextractor\n",
    "import radiomics"
   ]
  },
  {
   "cell_type": "markdown",
   "metadata": {},
   "source": [
    "## Setting up logging"
   ]
  },
  {
   "cell_type": "markdown",
   "metadata": {},
   "source": [
    "Regulate verbosity of PyRadiomics (outputs to stderr)"
   ]
  },
  {
   "cell_type": "code",
   "execution_count": 2,
   "metadata": {
    "collapsed": false
   },
   "outputs": [],
   "source": [
    "# Regulate verbosity with radiomics.setVerbosity\n",
    "# radiomics.setVerbosity(logging.INFO)  # Use logging.DEBUG for maximum output, default verbosity level = WARNING"
   ]
  },
  {
   "cell_type": "markdown",
   "metadata": {},
   "source": [
    "Set up logging to a log file"
   ]
  },
  {
   "cell_type": "code",
   "execution_count": 2,
   "metadata": {
    "collapsed": true
   },
   "outputs": [],
   "source": [
    "# Get the PyRadiomics logger (default log-level = INFO)\n",
    "logger = radiomics.logger\n",
    "logger.setLevel(logging.DEBUG)  # set level to DEBUG to include debug log messages in log file\n",
    "\n",
    "# Write out all log entries to a file\n",
    "handler = logging.FileHandler(filename='testLog.txt', mode='w')\n",
    "formatter = logging.Formatter('%(levelname)s:%(name)s: %(message)s')\n",
    "handler.setFormatter(formatter)\n",
    "logger.addHandler(handler)"
   ]
  },
  {
   "cell_type": "markdown",
   "metadata": {},
   "source": [
    "## Getting the testcase"
   ]
  },
  {
   "cell_type": "markdown",
   "metadata": {},
   "source": [
    "Test cases can be downloaded to temporary files. This is handled by the `radiomics.getTestCase()` function, which checks if the requested test case is available and if not, downloads it. It returns a tuple with the location of the image and mask of the requested test case, or (None, None) if it fails.\n",
    "\n",
    "Alternatively, if the data is available somewhere locally, this directory can be passed as a second argument to `radiomics.getTestCase()`. If that directory does not exist or does not contain the testcase, functionality reverts to default and tries to download the test data.\n",
    "\n",
    "If getting the test case fails, PyRadiomics will log an error explaining the cause."
   ]
  },
  {
   "cell_type": "code",
   "execution_count": 3,
   "metadata": {
    "collapsed": false
   },
   "outputs": [],
   "source": [
    "imageName, maskName = radiomics.getTestCase('brain1')\n",
    "\n",
    "if imageName is None or maskName is None:  # Something went wrong, in this case PyRadiomics will also log an error\n",
    "    raise Exception('Error getting testcase!')  # Raise exception to prevent cells below from running in case of \"run all\""
   ]
  },
  {
   "cell_type": "markdown",
   "metadata": {},
   "source": [
    "## Initializing the feature extractor"
   ]
  },
  {
   "cell_type": "markdown",
   "metadata": {},
   "source": [
    "#### Extraction Settings"
   ]
  },
  {
   "cell_type": "code",
   "execution_count": 5,
   "metadata": {
    "collapsed": false
   },
   "outputs": [],
   "source": [
    "# Use a parameter file, this customizes the extraction settings and also specifies the input image types to use and which features should be extracted\n",
    "# params = os.path.join('..', 'examples', 'exampleSettings', 'Params.yaml')\n",
    "params = os.path.join(os.getcwd(), 'pyradiomics_params', 'MR_default.yaml')\n",
    "\n",
    "extractor = featureextractor.RadiomicsFeatureExtractor(params)"
   ]
  },
  {
   "cell_type": "code",
   "execution_count": 6,
   "metadata": {
    "collapsed": false
   },
   "outputs": [
    {
     "ename": "AttributeError",
     "evalue": "module 'radiomics.featureextractor' has no attribute 'RadiomicsFeaturesExtractor'",
     "output_type": "error",
     "traceback": [
      "\u001b[0;31m---------------------------------------------------------------------------\u001b[0m",
      "\u001b[0;31mAttributeError\u001b[0m                            Traceback (most recent call last)",
      "\u001b[0;32m/tmp/ipykernel_2111404/2938810613.py\u001b[0m in \u001b[0;36m<module>\u001b[0;34m\u001b[0m\n\u001b[1;32m      7\u001b[0m \u001b[0msettings\u001b[0m\u001b[0;34m[\u001b[0m\u001b[0;34m'verbose'\u001b[0m\u001b[0;34m]\u001b[0m \u001b[0;34m=\u001b[0m \u001b[0;32mTrue\u001b[0m\u001b[0;34m\u001b[0m\u001b[0;34m\u001b[0m\u001b[0m\n\u001b[1;32m      8\u001b[0m \u001b[0;34m\u001b[0m\u001b[0m\n\u001b[0;32m----> 9\u001b[0;31m \u001b[0mextractor\u001b[0m \u001b[0;34m=\u001b[0m \u001b[0mfeatureextractor\u001b[0m\u001b[0;34m.\u001b[0m\u001b[0mRadiomicsFeaturesExtractor\u001b[0m\u001b[0;34m(\u001b[0m\u001b[0;34m**\u001b[0m\u001b[0msettings\u001b[0m\u001b[0;34m)\u001b[0m\u001b[0;34m\u001b[0m\u001b[0;34m\u001b[0m\u001b[0m\n\u001b[0m",
      "\u001b[0;31mAttributeError\u001b[0m: module 'radiomics.featureextractor' has no attribute 'RadiomicsFeaturesExtractor'"
     ]
    }
   ],
   "source": [
    "# Alternative: use hardcoded settings (separate for settings, input image types and enabled features)\n",
    "settings = {}\n",
    "settings['binWidth'] = 25\n",
    "settings['resampledPixelSpacing'] = None\n",
    "# settings['resampledPixelSpacing'] = [3, 3, 3]  # This is an example for defining resampling (voxels with size 3x3x3mm)\n",
    "settings['interpolator'] = 'sitkBSpline'\n",
    "settings['verbose'] = True\n",
    "\n",
    "extractor = featureextractor.RadiomicsFeaturesExtractor(**settings)"
   ]
  },
  {
   "cell_type": "markdown",
   "metadata": {},
   "source": [
    "#### Input images: applying filters"
   ]
  },
  {
   "cell_type": "code",
   "execution_count": 8,
   "metadata": {
    "collapsed": false
   },
   "outputs": [
    {
     "name": "stdout",
     "output_type": "stream",
     "text": [
      "Enabled input images:\n",
      "\tOriginal\n",
      "\tLoG\n",
      "\tWavelet\n"
     ]
    }
   ],
   "source": [
    "# By default, only 'Original' (no filter applied) is enabled. Optionally enable some image types:\n",
    "\n",
    "# extractor.enableImageTypeByName('Wavelet')\n",
    "# extractor.enableImageTypeByName('LoG', customArgs={'sigma':[3.0]})\n",
    "# extractor.enableImageTypeByName('Square')\n",
    "# extractor.enableImageTypeByName('SquareRoot')\n",
    "# extractor.enableImageTypeByName('Exponential')\n",
    "# extractor.enableImageTypeByName('Logarithm')\n",
    "\n",
    "# Alternative; set filters in one operation \n",
    "# This updates current enabled image types, i.e. overwrites custom settings specified per filter. \n",
    "# However, image types already enabled, but not passed in this call, are not disabled or altered.\n",
    "\n",
    "# extractor.enableImageTypes(Wavelet={}, LoG={'sigma':[3.0]})\n",
    "\n",
    "print('Enabled input images:')\n",
    "for imageType in extractor.enabledImagetypes.keys():\n",
    "    print('\\t' + imageType)"
   ]
  },
  {
   "cell_type": "markdown",
   "metadata": {},
   "source": [
    "#### Feature classes: setting which feature(classes) need to be calculated"
   ]
  },
  {
   "cell_type": "code",
   "execution_count": 9,
   "metadata": {
    "collapsed": false
   },
   "outputs": [],
   "source": [
    "# Disable all classes\n",
    "extractor.disableAllFeatures()\n",
    "\n",
    "# Enable all features in firstorder\n",
    "extractor.enableFeatureClassByName('firstorder')\n",
    "\n",
    "# Alternative; only enable 'Mean' and 'Skewness' features in firstorder\n",
    "# extractor.enableFeaturesByName(firstorder=['Mean', 'Skewness'])"
   ]
  },
  {
   "cell_type": "markdown",
   "metadata": {},
   "source": [
    "## Getting the docstrings of the active features"
   ]
  },
  {
   "cell_type": "code",
   "execution_count": 11,
   "metadata": {
    "collapsed": false
   },
   "outputs": [
    {
     "name": "stdout",
     "output_type": "stream",
     "text": [
      "Active features:\n"
     ]
    },
    {
     "ename": "AttributeError",
     "evalue": "'RadiomicsFeatureExtractor' object has no attribute 'getFeatureNames'",
     "output_type": "error",
     "traceback": [
      "\u001b[0;31m---------------------------------------------------------------------------\u001b[0m",
      "\u001b[0;31mAttributeError\u001b[0m                            Traceback (most recent call last)",
      "\u001b[0;32m/tmp/ipykernel_2111404/3318234776.py\u001b[0m in \u001b[0;36m<module>\u001b[0;34m\u001b[0m\n\u001b[1;32m      2\u001b[0m \u001b[0;32mfor\u001b[0m \u001b[0mcls\u001b[0m\u001b[0;34m,\u001b[0m \u001b[0mfeatures\u001b[0m \u001b[0;32min\u001b[0m \u001b[0msix\u001b[0m\u001b[0;34m.\u001b[0m\u001b[0miteritems\u001b[0m\u001b[0;34m(\u001b[0m\u001b[0mextractor\u001b[0m\u001b[0;34m.\u001b[0m\u001b[0menabledFeatures\u001b[0m\u001b[0;34m)\u001b[0m\u001b[0;34m:\u001b[0m\u001b[0;34m\u001b[0m\u001b[0;34m\u001b[0m\u001b[0m\n\u001b[1;32m      3\u001b[0m     \u001b[0;32mif\u001b[0m \u001b[0mlen\u001b[0m\u001b[0;34m(\u001b[0m\u001b[0mfeatures\u001b[0m\u001b[0;34m)\u001b[0m \u001b[0;34m==\u001b[0m \u001b[0;36m0\u001b[0m\u001b[0;34m:\u001b[0m\u001b[0;34m\u001b[0m\u001b[0;34m\u001b[0m\u001b[0m\n\u001b[0;32m----> 4\u001b[0;31m         \u001b[0mfeatures\u001b[0m \u001b[0;34m=\u001b[0m \u001b[0;34m[\u001b[0m\u001b[0mf\u001b[0m \u001b[0;32mfor\u001b[0m \u001b[0mf\u001b[0m\u001b[0;34m,\u001b[0m \u001b[0mdeprecated\u001b[0m \u001b[0;32min\u001b[0m \u001b[0msix\u001b[0m\u001b[0;34m.\u001b[0m\u001b[0miteritems\u001b[0m\u001b[0;34m(\u001b[0m\u001b[0mextractor\u001b[0m\u001b[0;34m.\u001b[0m\u001b[0mgetFeatureNames\u001b[0m\u001b[0;34m(\u001b[0m\u001b[0mcls\u001b[0m\u001b[0;34m)\u001b[0m\u001b[0;34m)\u001b[0m \u001b[0;32mif\u001b[0m \u001b[0;32mnot\u001b[0m \u001b[0mdeprecated\u001b[0m\u001b[0;34m]\u001b[0m\u001b[0;34m\u001b[0m\u001b[0;34m\u001b[0m\u001b[0m\n\u001b[0m\u001b[1;32m      5\u001b[0m     \u001b[0;32mfor\u001b[0m \u001b[0mf\u001b[0m \u001b[0;32min\u001b[0m \u001b[0mfeatures\u001b[0m\u001b[0;34m:\u001b[0m\u001b[0;34m\u001b[0m\u001b[0;34m\u001b[0m\u001b[0m\n\u001b[1;32m      6\u001b[0m         \u001b[0mprint\u001b[0m\u001b[0;34m(\u001b[0m\u001b[0mf\u001b[0m\u001b[0;34m)\u001b[0m\u001b[0;34m\u001b[0m\u001b[0;34m\u001b[0m\u001b[0m\n",
      "\u001b[0;31mAttributeError\u001b[0m: 'RadiomicsFeatureExtractor' object has no attribute 'getFeatureNames'"
     ]
    }
   ],
   "source": [
    "print('Active features:')\n",
    "for cls, features in six.iteritems(extractor.enabledFeatures):\n",
    "    if len(features) == 0:\n",
    "        features = [f for f, deprecated in six.iteritems(extractor.getFeatureNames(cls)) if not deprecated]\n",
    "    for f in features:\n",
    "        print(f)\n",
    "        print(getattr(extractor.featureClasses[cls], 'get%sFeatureValue' % f).__doc__)"
   ]
  },
  {
   "cell_type": "markdown",
   "metadata": {},
   "source": [
    "## Calculating the values of the active features"
   ]
  },
  {
   "cell_type": "code",
   "execution_count": 12,
   "metadata": {
    "collapsed": false
   },
   "outputs": [
    {
     "name": "stdout",
     "output_type": "stream",
     "text": [
      "Calculating features\n"
     ]
    }
   ],
   "source": [
    "print('Calculating features')\n",
    "featureVector = extractor.execute(imageName, maskName)"
   ]
  },
  {
   "cell_type": "code",
   "execution_count": 13,
   "metadata": {
    "collapsed": false
   },
   "outputs": [
    {
     "name": "stdout",
     "output_type": "stream",
     "text": [
      "Computed diagnostics_Versions_PyRadiomics: v3.0\n",
      "Computed diagnostics_Versions_Numpy: 1.21.6\n",
      "Computed diagnostics_Versions_SimpleITK: 2.3.0.dev\n",
      "Computed diagnostics_Versions_PyWavelet: 1.0.0\n",
      "Computed diagnostics_Versions_Python: 3.7.12\n",
      "Computed diagnostics_Configuration_Settings: {'minimumROIDimensions': 1, 'minimumROISize': None, 'normalize': True, 'normalizeScale': 500, 'removeOutliers': None, 'resampledPixelSpacing': [2, 2, 0], 'interpolator': 'sitkLinear', 'preCrop': False, 'padDistance': 5, 'distances': [1], 'force2D': False, 'force2Ddimension': 0, 'resegmentRange': None, 'label': 1, 'additionalInfo': True, 'binWidth': 25, 'voxelArrayShift': 1000}\n",
      "Computed diagnostics_Configuration_EnabledImageTypes: {'Original': {}, 'LoG': {'sigma': [3.0, 5.0]}, 'Wavelet': {}}\n",
      "Computed diagnostics_Image-original_Hash: 5c9ce3ca174f0f8324aa4d277e0fef82dc5ac566\n",
      "Computed diagnostics_Image-original_Dimensionality: 3D\n",
      "Computed diagnostics_Image-original_Spacing: (0.7812499999999999, 0.7812499999999999, 6.499999999999998)\n",
      "Computed diagnostics_Image-original_Size: (256, 256, 25)\n",
      "Computed diagnostics_Image-original_Mean: 385.6564080810547\n",
      "Computed diagnostics_Image-original_Minimum: 0.0\n",
      "Computed diagnostics_Image-original_Maximum: 3057.0\n",
      "Computed diagnostics_Mask-original_Hash: 9dc2c3137b31fd872997d92c9a92d5178126d9d3\n",
      "Computed diagnostics_Mask-original_Spacing: (0.7812499999999999, 0.7812499999999999, 6.499999999999998)\n",
      "Computed diagnostics_Mask-original_Size: (256, 256, 25)\n",
      "Computed diagnostics_Mask-original_BoundingBox: (162, 84, 11, 47, 70, 7)\n",
      "Computed diagnostics_Mask-original_VoxelNum: 4137\n",
      "Computed diagnostics_Mask-original_VolumeNum: 2\n",
      "Computed diagnostics_Mask-original_CenterOfMassIndex: (186.98549673676578, 106.3562968334542, 14.38917089678511)\n",
      "Computed diagnostics_Mask-original_CenterOfMass: (46.47304432559825, 16.518518098863908, 15.529610829103234)\n",
      "Computed diagnostics_Image-interpolated_Spacing: (2.0, 2.0, 6.499999999999998)\n",
      "Computed diagnostics_Image-interpolated_Size: (30, 39, 19)\n",
      "Computed diagnostics_Image-interpolated_Mean: 216.7290892934043\n",
      "Computed diagnostics_Image-interpolated_Minimum: -473.2810222275009\n",
      "Computed diagnostics_Image-interpolated_Maximum: 2220.6144556929657\n",
      "Computed diagnostics_Mask-interpolated_Spacing: (2.0, 2.0, 6.499999999999998)\n",
      "Computed diagnostics_Mask-interpolated_Size: (30, 39, 19)\n",
      "Computed diagnostics_Mask-interpolated_BoundingBox: (5, 6, 6, 19, 27, 7)\n",
      "Computed diagnostics_Mask-interpolated_VoxelNum: 625\n",
      "Computed diagnostics_Mask-interpolated_VolumeNum: 2\n",
      "Computed diagnostics_Mask-interpolated_CenterOfMassIndex: (14.6768, 14.2832, 9.4112)\n",
      "Computed diagnostics_Mask-interpolated_CenterOfMass: (46.353600000000014, 16.433599999999984, 15.672800000000016)\n",
      "Computed diagnostics_Mask-interpolated_Mean: 545.7864664316555\n",
      "Computed diagnostics_Mask-interpolated_Minimum: 137.68903761474732\n",
      "Computed diagnostics_Mask-interpolated_Maximum: 1064.9791461417897\n",
      "Computed original_firstorder_10Percentile: 306.5121333598888\n",
      "Computed original_firstorder_90Percentile: 803.8407366471787\n",
      "Computed original_firstorder_Energy: 1515774040.877473\n",
      "Computed original_firstorder_Entropy: 4.864949170719551\n",
      "Computed original_firstorder_InterquartileRange: 299.38266229885994\n",
      "Computed original_firstorder_Kurtosis: 2.2125336853478506\n",
      "Computed original_firstorder_Maximum: 1064.9791461417897\n",
      "Computed original_firstorder_MeanAbsoluteDeviation: 160.31436398028316\n",
      "Computed original_firstorder_Mean: 545.7864664316555\n",
      "Computed original_firstorder_Median: 529.4612376900068\n",
      "Computed original_firstorder_Minimum: 137.68903761474732\n",
      "Computed original_firstorder_Range: 927.2901085270423\n",
      "Computed original_firstorder_RobustMeanAbsoluteDeviation: 122.46955560496329\n",
      "Computed original_firstorder_RootMeanSquared: 1557.3177149843114\n",
      "Computed original_firstorder_Skewness: 0.26108613687509447\n",
      "Computed original_firstorder_TotalEnergy: 39410125062.81429\n",
      "Computed original_firstorder_Uniformity: 0.03770624\n",
      "Computed original_firstorder_Variance: 35782.665600693275\n",
      "Computed log-sigma-3-0-mm-3D_firstorder_10Percentile: -238.07544860839843\n",
      "Computed log-sigma-3-0-mm-3D_firstorder_90Percentile: 16.62581291198734\n",
      "Computed log-sigma-3-0-mm-3D_firstorder_Energy: 510539274.0596891\n",
      "Computed log-sigma-3-0-mm-3D_firstorder_Entropy: 3.997560485751199\n",
      "Computed log-sigma-3-0-mm-3D_firstorder_InterquartileRange: 130.55503463745117\n",
      "Computed log-sigma-3-0-mm-3D_firstorder_Kurtosis: 3.1198894971709246\n",
      "Computed log-sigma-3-0-mm-3D_firstorder_Maximum: 140.59292602539062\n",
      "Computed log-sigma-3-0-mm-3D_firstorder_MeanAbsoluteDeviation: 79.79461256230984\n",
      "Computed log-sigma-3-0-mm-3D_firstorder_Mean: -101.89170081156492\n",
      "Computed log-sigma-3-0-mm-3D_firstorder_Median: -91.18551635742188\n",
      "Computed log-sigma-3-0-mm-3D_firstorder_Minimum: -421.9317626953125\n",
      "Computed log-sigma-3-0-mm-3D_firstorder_Range: 562.5246887207031\n",
      "Computed log-sigma-3-0-mm-3D_firstorder_RobustMeanAbsoluteDeviation: 53.83727080386605\n",
      "Computed log-sigma-3-0-mm-3D_firstorder_RootMeanSquared: 903.8046462015465\n",
      "Computed log-sigma-3-0-mm-3D_firstorder_Skewness: -0.4655520755836287\n",
      "Computed log-sigma-3-0-mm-3D_firstorder_TotalEnergy: 13274021125.551912\n",
      "Computed log-sigma-3-0-mm-3D_firstorder_Uniformity: 0.07446784000000001\n",
      "Computed log-sigma-3-0-mm-3D_firstorder_Variance: 10264.321424358946\n",
      "Computed log-sigma-5-0-mm-3D_firstorder_10Percentile: -263.2685241699219\n",
      "Computed log-sigma-5-0-mm-3D_firstorder_90Percentile: -17.378458023071282\n",
      "Computed log-sigma-5-0-mm-3D_firstorder_Energy: 477697912.2861111\n",
      "Computed log-sigma-5-0-mm-3D_firstorder_Entropy: 4.006406235053657\n",
      "Computed log-sigma-5-0-mm-3D_firstorder_InterquartileRange: 133.14923095703125\n",
      "Computed log-sigma-5-0-mm-3D_firstorder_Kurtosis: 3.035105338276002\n",
      "Computed log-sigma-5-0-mm-3D_firstorder_Maximum: 130.6171417236328\n",
      "Computed log-sigma-5-0-mm-3D_firstorder_MeanAbsoluteDeviation: 79.4738373282776\n",
      "Computed log-sigma-5-0-mm-3D_firstorder_Mean: -131.51212297725678\n",
      "Computed log-sigma-5-0-mm-3D_firstorder_Median: -123.26061248779297\n",
      "Computed log-sigma-5-0-mm-3D_firstorder_Minimum: -427.23870849609375\n",
      "Computed log-sigma-5-0-mm-3D_firstorder_Range: 557.8558502197266\n",
      "Computed log-sigma-5-0-mm-3D_firstorder_RobustMeanAbsoluteDeviation: 54.48092334638282\n",
      "Computed log-sigma-5-0-mm-3D_firstorder_RootMeanSquared: 874.2520572796942\n",
      "Computed log-sigma-5-0-mm-3D_firstorder_Skewness: -0.2793503779268916\n",
      "Computed log-sigma-5-0-mm-3D_firstorder_TotalEnergy: 12420145719.438885\n",
      "Computed log-sigma-5-0-mm-3D_firstorder_Uniformity: 0.07364863999999999\n",
      "Computed log-sigma-5-0-mm-3D_firstorder_Variance: 10045.467122306314\n",
      "Computed wavelet-LLH_firstorder_10Percentile: -389.5278688732089\n",
      "Computed wavelet-LLH_firstorder_90Percentile: 322.9423421102636\n",
      "Computed wavelet-LLH_firstorder_Energy: 684960695.0207253\n",
      "Computed wavelet-LLH_firstorder_Entropy: 5.290622175112495\n",
      "Computed wavelet-LLH_firstorder_InterquartileRange: 387.0123078305862\n",
      "Computed wavelet-LLH_firstorder_Kurtosis: 2.44358574294966\n",
      "Computed wavelet-LLH_firstorder_Maximum: 578.3514696292499\n",
      "Computed wavelet-LLH_firstorder_MeanAbsoluteDeviation: 218.2411313811061\n",
      "Computed wavelet-LLH_firstorder_Mean: 12.917009966578112\n",
      "Computed wavelet-LLH_firstorder_Median: 64.45909384212452\n",
      "Computed wavelet-LLH_firstorder_Minimum: -658.5994961968851\n",
      "Computed wavelet-LLH_firstorder_Range: 1236.950965826135\n",
      "Computed wavelet-LLH_firstorder_RobustMeanAbsoluteDeviation: 158.5828124057252\n",
      "Computed wavelet-LLH_firstorder_RootMeanSquared: 1046.8701505120682\n",
      "Computed wavelet-LLH_firstorder_Skewness: -0.46779222390853376\n",
      "Computed wavelet-LLH_firstorder_TotalEnergy: 17808978070.538853\n",
      "Computed wavelet-LLH_firstorder_Uniformity: 0.02944256\n",
      "Computed wavelet-LLH_firstorder_Variance: 69936.24295352747\n",
      "Computed wavelet-LHL_firstorder_10Percentile: -183.48014806004625\n",
      "Computed wavelet-LHL_firstorder_90Percentile: 144.41001789337048\n",
      "Computed wavelet-LHL_firstorder_Energy: 614573230.1648262\n",
      "Computed wavelet-LHL_firstorder_Entropy: 4.433983902356582\n",
      "Computed wavelet-LHL_firstorder_InterquartileRange: 145.3515399729607\n",
      "Computed wavelet-LHL_firstorder_Kurtosis: 5.353692208235501\n",
      "Computed wavelet-LHL_firstorder_Maximum: 513.4358601952706\n",
      "Computed wavelet-LHL_firstorder_MeanAbsoluteDeviation: 102.37645844792159\n",
      "Computed wavelet-LHL_firstorder_Mean: -18.50958764912938\n",
      "Computed wavelet-LHL_firstorder_Median: -18.36044398220099\n",
      "Computed wavelet-LHL_firstorder_Minimum: -657.6867770166529\n",
      "Computed wavelet-LHL_firstorder_Range: 1171.1226372119236\n",
      "Computed wavelet-LHL_firstorder_RobustMeanAbsoluteDeviation: 63.41840175956356\n",
      "Computed wavelet-LHL_firstorder_RootMeanSquared: 991.6235012663435\n",
      "Computed wavelet-LHL_firstorder_Skewness: -0.10633432061693097\n",
      "Computed wavelet-LHL_firstorder_TotalEnergy: 15978903984.285475\n",
      "Computed wavelet-LHL_firstorder_Uniformity: 0.05928703999999999\n",
      "Computed wavelet-LHL_firstorder_Variance: 19993.73872703979\n",
      "Computed wavelet-LHH_firstorder_10Percentile: -129.321228691279\n",
      "Computed wavelet-LHH_firstorder_90Percentile: 124.95398112722012\n",
      "Computed wavelet-LHH_firstorder_Energy: 631410301.9385598\n",
      "Computed wavelet-LHH_firstorder_Entropy: 4.064008986813903\n",
      "Computed wavelet-LHH_firstorder_InterquartileRange: 125.24366062558795\n",
      "Computed wavelet-LHH_firstorder_Kurtosis: 4.0958913210839505\n",
      "Computed wavelet-LHH_firstorder_Maximum: 386.7803851697661\n",
      "Computed wavelet-LHH_firstorder_MeanAbsoluteDeviation: 80.78574290181358\n",
      "Computed wavelet-LHH_firstorder_Mean: -0.46343507006450746\n",
      "Computed wavelet-LHH_firstorder_Median: -6.538463119757905\n",
      "Computed wavelet-LHH_firstorder_Minimum: -357.8223956198062\n",
      "Computed wavelet-LHH_firstorder_Range: 744.6027807895723\n",
      "Computed wavelet-LHH_firstorder_RobustMeanAbsoluteDeviation: 53.378777226128065\n",
      "Computed wavelet-LHH_firstorder_RootMeanSquared: 1005.1151591244138\n",
      "Computed wavelet-LHH_firstorder_Skewness: 0.2906255103185899\n",
      "Computed wavelet-LHH_firstorder_TotalEnergy: 16416667850.40255\n",
      "Computed wavelet-LHH_firstorder_Uniformity: 0.07293696\n",
      "Computed wavelet-LHH_firstorder_Variance: 11183.138469760543\n",
      "Computed wavelet-HLL_firstorder_10Percentile: -171.32518137051477\n",
      "Computed wavelet-HLL_firstorder_90Percentile: 131.70999078202547\n",
      "Computed wavelet-HLL_firstorder_Energy: 611284063.9438303\n",
      "Computed wavelet-HLL_firstorder_Entropy: 4.253398319724673\n",
      "Computed wavelet-HLL_firstorder_InterquartileRange: 144.20525051271\n",
      "Computed wavelet-HLL_firstorder_Kurtosis: 3.5179511747552508\n",
      "Computed wavelet-HLL_firstorder_Maximum: 374.0019408643523\n",
      "Computed wavelet-HLL_firstorder_MeanAbsoluteDeviation: 91.11042694031521\n",
      "Computed wavelet-HLL_firstorder_Mean: -18.187251247079026\n",
      "Computed wavelet-HLL_firstorder_Median: -17.782855241736424\n",
      "Computed wavelet-HLL_firstorder_Minimum: -439.8952497032455\n",
      "Computed wavelet-HLL_firstorder_Range: 813.8971905675978\n",
      "Computed wavelet-HLL_firstorder_RobustMeanAbsoluteDeviation: 60.167172949203064\n",
      "Computed wavelet-HLL_firstorder_RootMeanSquared: 988.9663807785017\n",
      "Computed wavelet-HLL_firstorder_Skewness: -0.20096335920114164\n",
      "Computed wavelet-HLL_firstorder_TotalEnergy: 15893385662.539581\n",
      "Computed wavelet-HLL_firstorder_Uniformity: 0.06369023999999998\n",
      "Computed wavelet-HLL_firstorder_Variance: 14098.228696362034\n",
      "Computed wavelet-HLH_firstorder_10Percentile: -120.38817894638994\n",
      "Computed wavelet-HLH_firstorder_90Percentile: 122.94902359497307\n",
      "Computed wavelet-HLH_firstorder_Energy: 630182632.1579125\n",
      "Computed wavelet-HLH_firstorder_Entropy: 3.9555094031629\n",
      "Computed wavelet-HLH_firstorder_InterquartileRange: 106.49073053256743\n",
      "Computed wavelet-HLH_firstorder_Kurtosis: 4.480738356178757\n",
      "Computed wavelet-HLH_firstorder_Maximum: 366.09986150760665\n",
      "Computed wavelet-HLH_firstorder_MeanAbsoluteDeviation: 73.76124702995261\n",
      "Computed wavelet-HLH_firstorder_Mean: -0.8863831593775049\n",
      "Computed wavelet-HLH_firstorder_Median: -7.343995177455064\n",
      "Computed wavelet-HLH_firstorder_Minimum: -365.4769567477248\n",
      "Computed wavelet-HLH_firstorder_Range: 731.5768182553314\n",
      "Computed wavelet-HLH_firstorder_RobustMeanAbsoluteDeviation: 45.64013194522881\n",
      "Computed wavelet-HLH_firstorder_RootMeanSquared: 1004.1375460825375\n",
      "Computed wavelet-HLH_firstorder_Skewness: 0.41580905109390515\n",
      "Computed wavelet-HLH_firstorder_TotalEnergy: 16384748436.10572\n",
      "Computed wavelet-HLH_firstorder_Uniformity: 0.0828288\n",
      "Computed wavelet-HLH_firstorder_Variance: 10064.19209630981\n",
      "Computed wavelet-HHL_firstorder_10Percentile: -96.57370790022884\n",
      "Computed wavelet-HHL_firstorder_90Percentile: 97.99699118585177\n",
      "Computed wavelet-HHL_firstorder_Energy: 628682049.1424625\n",
      "Computed wavelet-HHL_firstorder_Entropy: 3.7017655455821767\n",
      "Computed wavelet-HHL_firstorder_InterquartileRange: 90.5999382437045\n",
      "Computed wavelet-HHL_firstorder_Kurtosis: 4.3202586807093315\n",
      "Computed wavelet-HHL_firstorder_Maximum: 331.3830856508417\n",
      "Computed wavelet-HHL_firstorder_MeanAbsoluteDeviation: 60.66705655367174\n",
      "Computed wavelet-HHL_firstorder_Mean: -0.3404734906140433\n",
      "Computed wavelet-HHL_firstorder_Median: -0.003135289265447483\n",
      "Computed wavelet-HHL_firstorder_Minimum: -284.36534054886323\n",
      "Computed wavelet-HHL_firstorder_Range: 615.7484261997049\n",
      "Computed wavelet-HHL_firstorder_RobustMeanAbsoluteDeviation: 38.82171992087491\n",
      "Computed wavelet-HHL_firstorder_RootMeanSquared: 1002.9413136509733\n",
      "Computed wavelet-HHL_firstorder_Skewness: 0.19529917763848073\n",
      "Computed wavelet-HHL_firstorder_TotalEnergy: 16345733277.70402\n",
      "Computed wavelet-HHL_firstorder_Uniformity: 0.09627391999999999\n",
      "Computed wavelet-HHL_firstorder_Variance: 6572.109686970412\n",
      "Computed wavelet-HHH_firstorder_10Percentile: -82.87638659239921\n",
      "Computed wavelet-HHH_firstorder_90Percentile: 88.18919076731474\n",
      "Computed wavelet-HHH_firstorder_Energy: 630507992.7783943\n",
      "Computed wavelet-HHH_firstorder_Entropy: 3.5028634809393973\n",
      "Computed wavelet-HHH_firstorder_InterquartileRange: 76.22587872814029\n",
      "Computed wavelet-HHH_firstorder_Kurtosis: 4.322875135097998\n",
      "Computed wavelet-HHH_firstorder_Maximum: 259.32092485073827\n",
      "Computed wavelet-HHH_firstorder_MeanAbsoluteDeviation: 53.45438512307282\n",
      "Computed wavelet-HHH_firstorder_Mean: 1.8325369758144745\n",
      "Computed wavelet-HHH_firstorder_Median: 0.8416613028124255\n",
      "Computed wavelet-HHH_firstorder_Minimum: -242.72192693698736\n",
      "Computed wavelet-HHH_firstorder_Range: 502.0428517877256\n",
      "Computed wavelet-HHH_firstorder_RobustMeanAbsoluteDeviation: 33.97512010327489\n",
      "Computed wavelet-HHH_firstorder_RootMeanSquared: 1004.396728611474\n",
      "Computed wavelet-HHH_firstorder_Skewness: 0.0766825578778963\n",
      "Computed wavelet-HHH_firstorder_TotalEnergy: 16393207812.238249\n",
      "Computed wavelet-HHH_firstorder_Uniformity: 0.10947327999999999\n",
      "Computed wavelet-HHH_firstorder_Variance: 5144.356302034334\n",
      "Computed wavelet-LLL_firstorder_10Percentile: 918.2257584627666\n",
      "Computed wavelet-LLL_firstorder_90Percentile: 2012.7208162796978\n",
      "Computed wavelet-LLL_firstorder_Energy: 3794412175.324464\n",
      "Computed wavelet-LLL_firstorder_Entropy: 5.865555490683529\n",
      "Computed wavelet-LLL_firstorder_InterquartileRange: 610.9848267594036\n",
      "Computed wavelet-LLL_firstorder_Kurtosis: 2.303828288161225\n",
      "Computed wavelet-LLL_firstorder_Maximum: 2487.344670946577\n",
      "Computed wavelet-LLL_firstorder_MeanAbsoluteDeviation: 331.1666539037136\n",
      "Computed wavelet-LLL_firstorder_Mean: 1431.6484634813223\n",
      "Computed wavelet-LLL_firstorder_Median: 1421.336180465203\n",
      "Computed wavelet-LLL_firstorder_Minimum: 574.2400943928479\n",
      "Computed wavelet-LLL_firstorder_Range: 1913.1045765537292\n",
      "Computed wavelet-LLL_firstorder_RobustMeanAbsoluteDeviation: 247.78002578968142\n",
      "Computed wavelet-LLL_firstorder_RootMeanSquared: 2463.9520045080308\n",
      "Computed wavelet-LLL_firstorder_Skewness: 0.2899295318334308\n",
      "Computed wavelet-LLL_firstorder_TotalEnergy: 98654716558.43604\n",
      "Computed wavelet-LLL_firstorder_Uniformity: 0.01925376\n",
      "Computed wavelet-LLL_firstorder_Variance: 158145.23056806726\n"
     ]
    }
   ],
   "source": [
    "# Show output\n",
    "for featureName in featureVector.keys():\n",
    "    print('Computed %s: %s' % (featureName, featureVector[featureName]))"
   ]
  }
 ],
 "metadata": {
  "kernelspec": {
   "display_name": "fae",
   "language": "python",
   "name": "python3"
  },
  "language_info": {
   "codemirror_mode": {
    "name": "ipython",
    "version": 3
   },
   "file_extension": ".py",
   "mimetype": "text/x-python",
   "name": "python",
   "nbconvert_exporter": "python",
   "pygments_lexer": "ipython3",
   "version": "3.7.12"
  }
 },
 "nbformat": 4,
 "nbformat_minor": 0
}
