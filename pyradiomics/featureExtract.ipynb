{
 "cells": [
  {
   "cell_type": "code",
   "execution_count": null,
   "id": "bc4856d0-63c6-48b3-9930-7c5d32b72618",
   "metadata": {},
   "outputs": [],
   "source": [
    "import os\n",
    "import radiomics\n",
    "import pandas as pd\n",
    "import numpy as np\n",
    "import SimpleITK as sitk\n",
    "\n",
    "from sklearn.utils import shuffle # 数据混序\n",
    "from sklearn.preprocessing import StandardScaler\n",
    "\n",
    "# for t test\n",
    "from scipy.stats import levene, ttest_ind"
   ]
  },
  {
   "cell_type": "markdown",
   "id": "01b85343-551b-4330-a057-903892ab8718",
   "metadata": {},
   "source": [
    "## 特征提取"
   ]
  },
  {
   "cell_type": "code",
   "execution_count": 4,
   "id": "3f65c069-a679-40cb-98aa-b26f7f616bab",
   "metadata": {},
   "outputs": [],
   "source": [
    "from radiomics import featureextractor\n",
    "from radiomics import imageoperations"
   ]
  },
  {
   "cell_type": "code",
   "execution_count": null,
   "id": "8a739321-6fd2-47ee-b481-466dd2b7f2d1",
   "metadata": {},
   "outputs": [],
   "source": [
    "maskName = 'D:/pancreas-LU/WWCT202102251903/CT1.nii'\n",
    "imageName = 'D:/pancreas-LU/WWCT202102251903/CT_0000.nii.gz'\n",
    "paramPath = 'E:/AIDataSet/Radiomics/Dataset/RadiomicsParams.yaml'\n",
    "data_img, meta_img = LoadImage()(imageName)\n",
    "data_msk, meta_msk = LoadImage()(maskName)\n",
    "print(f\"image data shape:{data_img.shape}\")\n",
    "print(f\"meta data:{meta_img}\")"
   ]
  },
  {
   "cell_type": "code",
   "execution_count": null,
   "id": "4c40b656-9d6d-4b76-a9d8-7190c0570d1c",
   "metadata": {},
   "outputs": [],
   "source": [
    "print(f\"image data shape:{data_msk.shape}\")\n",
    "print(f\"meta data:{meta_msk}\")"
   ]
  },
  {
   "cell_type": "code",
   "execution_count": null,
   "id": "a12f0d9b-7c2f-446d-b7d3-860a072a82aa",
   "metadata": {},
   "outputs": [],
   "source": [
    "maskName = 'E:/AIDataSet/Radiomics/Dataset/chen2/roi.nii'\n",
    "imageName = 'E:/AIDataSet/Radiomics/Dataset/chen2/t2.nii'\n",
    "\n",
    "# Initialize feature extractor\n",
    "extractor = featureextractor.RadiomicsFeatureExtractor(paramPath)\n",
    "# boundingBox, correctedMask = imageoperations.checkMask(imageName,maskName,**settings)\n",
    "featureVector = extractor.execute(imageName,maskName)"
   ]
  },
  {
   "cell_type": "code",
   "execution_count": 5,
   "id": "d1c9e1d7",
   "metadata": {},
   "outputs": [],
   "source": [
    "paramPath = '/home/peng/00_github/02_DL/02_Radiomics/240609_Radiomics-research-by-using-Python_SP/pyradiomics/pyradiomics_params/RadiomicsParams.yaml'\n",
    "extractor = featureextractor.RadiomicsFeatureExtractor(paramPath)\n",
    "dataDir = '/home/peng/Documents/pancrease_xiaoting_250220/feature'"
   ]
  },
  {
   "cell_type": "code",
   "execution_count": null,
   "id": "c496f964-2083-4427-859d-28cfad265f3f",
   "metadata": {},
   "outputs": [],
   "source": [
    "df = pd.DataFrame()\n",
    "for root,dirs,files in os.walk(dataDir):\n",
    "        if dirs:\n",
    "            print(dirs)\n",
    "            for dir in dirs:\n",
    "                for subroot,subdirs,subfiles in os.walk(root + '/'+ dir):\n",
    "                    maskName = subroot + '/Task007_Pancreas_nnunet/' + \"CT1.nii.gz\"\n",
    "                    print(maskName)\n",
    "                    # print(subroot)\n",
    "                    # print(subdirs)\n",
    "                    # print(subfiles)\n",
    "                    df_temp = pd.DataFrame()\n",
    "                    for file in subfiles:\n",
    "                        if file == \"adc_Reg.nii\" or file == \"max_b_dwi_Reg.nii\" or file == \"CT_0000.nii.gz\":\n",
    "                            imageName = subroot + '/' + file\n",
    "                            print(imageName)\n",
    "                            featureVector = extractor.execute(imageName,maskName)\n",
    "                            df_add = pd.DataFrame.from_dict(featureVector.values()).T\n",
    "                            df_add.columns = featureVector.keys()\n",
    "                            df_temp = pd.concat([df_temp, df_add],axis=1)\n",
    "                            df_temp = df_temp.drop(df_temp.columns[0], axis=1)       \n",
    "                            df_temp.insert(0,'Sub',dir)\n",
    "                            print(df_temp)\n",
    "                        else:\n",
    "                            continue\n",
    "                df = pd.concat([df, df_temp],axis=0)\n",
    "        else:\n",
    "            continue\n",
    "df.to_excel(dataDir + 'results.xlsx')"
   ]
  },
  {
   "cell_type": "code",
   "execution_count": null,
   "id": "084bff9e",
   "metadata": {},
   "outputs": [
    {
     "name": "stdout",
     "output_type": "stream",
     "text": [
      "['WWCT202311143680', 'WWCT202311143489', 'WWCT202310031084', 'WWCT202310142565', 'WWCT202309022299', 'WWCT202312062925', 'WWCT202312212299', 'WWCT202309203911', 'WWCT202310050729', 'WWCT202310173443', 'WWCT202309202875', 'WWCT202309202611', 'WWCT202310244240', 'WWCT202309143068', 'WWCT202311283619', 'WWCT202308311385', 'WWCT202309134060', 'WWCT202309282056', 'WWCT202310304879', 'WWCT202310281954', 'WWCT202308233781', 'WWCT202310234174', 'WWCT202309161603', 'WWCT202311083861', 'WWCT202307010944', 'WWCT202312262335', 'WWCT202310072504', 'WWCT202311064652', 'WWCT202311074276', 'WWCT202309223478', 'WWCT202309022295', 'WWCT202309141515', 'WWCT202308293878', 'WWCT202310184230', 'WWCT202311084218', 'WWCT202312031622', 'WWCT202312262988', 'WWCT202309272619', 'WWCT202309204107', 'WWCT202311064821', 'WWCT202310123586', 'WWCT202309282637', 'WWCT202312202857', 'WWCT202310052163', 'WWCT202310243856', 'WWCT202310202736', 'WWCT202309123771', 'WWCT202309012457', 'WWCT202310123632', 'WWCT202309291617', 'WWCT202311273535', 'WWCT202310203505', 'WWCT202310164097', 'WWCT202311273972', 'WWCT202310073372', 'WWCT202312190894', 'WWCT202308312246', 'WWCT202311142532', 'WWCT202310113141', 'WWCT202309063854', 'WWCT202308283922', 'WWCT202311033730', 'WWCT202309204032', 'WWCT202310103506', 'WWCT202310203507', 'WWCT202310244274', 'WWCT202311191744']\n",
      "/home/peng/Documents/pancrease_xiaoting_250220/feature/WWCT202311143680/CT/CT_0000.nii.gz\n",
      "/home/peng/Documents/pancrease_xiaoting_250220/feature/WWCT202311143489/CT/CT_0000.nii.gz\n",
      "/home/peng/Documents/pancrease_xiaoting_250220/feature/WWCT202310031084/CT/CT_0000.nii.gz\n",
      "/home/peng/Documents/pancrease_xiaoting_250220/feature/WWCT202310142565/CT/CT_0000.nii.gz\n",
      "/home/peng/Documents/pancrease_xiaoting_250220/feature/WWCT202309022299/CT/CT_0000.nii.gz\n",
      "/home/peng/Documents/pancrease_xiaoting_250220/feature/WWCT202312062925/CT/CT_0000.nii.gz\n",
      "/home/peng/Documents/pancrease_xiaoting_250220/feature/WWCT202312212299/CT/CT_0000.nii.gz\n",
      "/home/peng/Documents/pancrease_xiaoting_250220/feature/WWCT202309203911/CT/CT_0000.nii.gz\n",
      "/home/peng/Documents/pancrease_xiaoting_250220/feature/WWCT202310050729/CT/CT_0000.nii.gz\n",
      "/home/peng/Documents/pancrease_xiaoting_250220/feature/WWCT202310173443/CT/CT_0000.nii.gz\n",
      "/home/peng/Documents/pancrease_xiaoting_250220/feature/WWCT202309202875/CT/CT_0000.nii.gz\n",
      "/home/peng/Documents/pancrease_xiaoting_250220/feature/WWCT202309202611/CT/CT_0000.nii.gz\n",
      "/home/peng/Documents/pancrease_xiaoting_250220/feature/WWCT202310244240/CT/CT_0000.nii.gz\n",
      "/home/peng/Documents/pancrease_xiaoting_250220/feature/WWCT202309143068/CT/CT_0000.nii.gz\n",
      "/home/peng/Documents/pancrease_xiaoting_250220/feature/WWCT202311283619/CT/CT_0000.nii.gz\n",
      "/home/peng/Documents/pancrease_xiaoting_250220/feature/WWCT202308311385/CT/CT_0000.nii.gz\n",
      "/home/peng/Documents/pancrease_xiaoting_250220/feature/WWCT202309134060/CT/CT_0000.nii.gz\n",
      "/home/peng/Documents/pancrease_xiaoting_250220/feature/WWCT202309282056/CT/CT_0000.nii.gz\n",
      "/home/peng/Documents/pancrease_xiaoting_250220/feature/WWCT202310304879/CT/CT_0000.nii.gz\n",
      "/home/peng/Documents/pancrease_xiaoting_250220/feature/WWCT202310281954/CT/CT_0000.nii.gz\n",
      "/home/peng/Documents/pancrease_xiaoting_250220/feature/WWCT202308233781/CT/CT_0000.nii.gz\n",
      "/home/peng/Documents/pancrease_xiaoting_250220/feature/WWCT202310234174/CT/CT_0000.nii.gz\n",
      "/home/peng/Documents/pancrease_xiaoting_250220/feature/WWCT202309161603/CT/CT_0000.nii.gz\n",
      "/home/peng/Documents/pancrease_xiaoting_250220/feature/WWCT202311083861/CT/CT_0000.nii.gz\n",
      "/home/peng/Documents/pancrease_xiaoting_250220/feature/WWCT202307010944/CT/CT_0000.nii.gz\n",
      "/home/peng/Documents/pancrease_xiaoting_250220/feature/WWCT202312262335/CT/CT_0000.nii.gz\n",
      "/home/peng/Documents/pancrease_xiaoting_250220/feature/WWCT202310072504/CT/CT_0000.nii.gz\n",
      "/home/peng/Documents/pancrease_xiaoting_250220/feature/WWCT202311064652/CT/CT_0000.nii.gz\n",
      "/home/peng/Documents/pancrease_xiaoting_250220/feature/WWCT202311074276/CT/CT_0000.nii.gz\n",
      "/home/peng/Documents/pancrease_xiaoting_250220/feature/WWCT202309223478/CT/CT_0000.nii.gz\n",
      "/home/peng/Documents/pancrease_xiaoting_250220/feature/WWCT202309022295/CT/CT_0000.nii.gz\n",
      "/home/peng/Documents/pancrease_xiaoting_250220/feature/WWCT202309141515/CT/CT_0000.nii.gz\n",
      "/home/peng/Documents/pancrease_xiaoting_250220/feature/WWCT202308293878/CT/CT_0000.nii.gz\n",
      "/home/peng/Documents/pancrease_xiaoting_250220/feature/WWCT202310184230/CT/CT_0000.nii.gz\n",
      "/home/peng/Documents/pancrease_xiaoting_250220/feature/WWCT202311084218/CT/CT_0000.nii.gz\n",
      "/home/peng/Documents/pancrease_xiaoting_250220/feature/WWCT202312031622/CT/CT_0000.nii.gz\n",
      "/home/peng/Documents/pancrease_xiaoting_250220/feature/WWCT202312262988/CT/CT_0000.nii.gz\n",
      "/home/peng/Documents/pancrease_xiaoting_250220/feature/WWCT202309272619/CT/CT_0000.nii.gz\n",
      "/home/peng/Documents/pancrease_xiaoting_250220/feature/WWCT202309204107/CT/CT_0000.nii.gz\n",
      "/home/peng/Documents/pancrease_xiaoting_250220/feature/WWCT202311064821/CT/CT_0000.nii.gz\n",
      "/home/peng/Documents/pancrease_xiaoting_250220/feature/WWCT202310123586/CT/CT_0000.nii.gz\n",
      "/home/peng/Documents/pancrease_xiaoting_250220/feature/WWCT202309282637/CT/CT_0000.nii.gz\n",
      "/home/peng/Documents/pancrease_xiaoting_250220/feature/WWCT202312202857/CT/CT_0000.nii.gz\n",
      "/home/peng/Documents/pancrease_xiaoting_250220/feature/WWCT202310052163/CT/CT_0000.nii.gz\n",
      "/home/peng/Documents/pancrease_xiaoting_250220/feature/WWCT202310243856/CT/CT_0000.nii.gz\n",
      "/home/peng/Documents/pancrease_xiaoting_250220/feature/WWCT202310202736/CT/CT_0000.nii.gz\n",
      "/home/peng/Documents/pancrease_xiaoting_250220/feature/WWCT202309123771/CT/CT_0000.nii.gz\n",
      "/home/peng/Documents/pancrease_xiaoting_250220/feature/WWCT202309012457/CT/CT_0000.nii.gz\n",
      "/home/peng/Documents/pancrease_xiaoting_250220/feature/WWCT202310123632/CT/CT_0000.nii.gz\n",
      "/home/peng/Documents/pancrease_xiaoting_250220/feature/WWCT202309291617/CT/CT_0000.nii.gz\n",
      "/home/peng/Documents/pancrease_xiaoting_250220/feature/WWCT202311273535/CT/CT_0000.nii.gz\n",
      "/home/peng/Documents/pancrease_xiaoting_250220/feature/WWCT202310203505/CT/CT_0000.nii.gz\n",
      "/home/peng/Documents/pancrease_xiaoting_250220/feature/WWCT202310164097/CT/CT_0000.nii.gz\n",
      "/home/peng/Documents/pancrease_xiaoting_250220/feature/WWCT202311273972/CT/CT_0000.nii.gz\n",
      "/home/peng/Documents/pancrease_xiaoting_250220/feature/WWCT202310073372/CT/CT_0000.nii.gz\n",
      "/home/peng/Documents/pancrease_xiaoting_250220/feature/WWCT202312190894/CT/CT_0000.nii.gz\n",
      "/home/peng/Documents/pancrease_xiaoting_250220/feature/WWCT202308312246/CT/CT_0000.nii.gz\n",
      "/home/peng/Documents/pancrease_xiaoting_250220/feature/WWCT202311142532/CT/CT_0000.nii.gz\n",
      "/home/peng/Documents/pancrease_xiaoting_250220/feature/WWCT202310113141/CT/CT_0000.nii.gz\n",
      "/home/peng/Documents/pancrease_xiaoting_250220/feature/WWCT202309063854/CT/CT_0000.nii.gz\n",
      "/home/peng/Documents/pancrease_xiaoting_250220/feature/WWCT202308283922/CT/CT_0000.nii.gz\n",
      "/home/peng/Documents/pancrease_xiaoting_250220/feature/WWCT202311033730/CT/CT_0000.nii.gz\n",
      "/home/peng/Documents/pancrease_xiaoting_250220/feature/WWCT202309204032/CT/CT_0000.nii.gz\n",
      "/home/peng/Documents/pancrease_xiaoting_250220/feature/WWCT202310103506/CT/CT_0000.nii.gz\n",
      "/home/peng/Documents/pancrease_xiaoting_250220/feature/WWCT202310203507/CT/CT_0000.nii.gz\n",
      "/home/peng/Documents/pancrease_xiaoting_250220/feature/WWCT202310244274/CT/CT_0000.nii.gz\n",
      "/home/peng/Documents/pancrease_xiaoting_250220/feature/WWCT202311191744/CT/CT_0000.nii.gz\n"
     ]
    }
   ],
   "source": [
    "df = pd.DataFrame()\n",
    "for root,dirs,files in os.walk(dataDir):\n",
    "    print(dirs)\n",
    "    \n",
    "    for dir in dirs:\n",
    "        maskName=root+'/'+dir+'/Task007_Pancreas_nnunet/' + \"CT1.nii.gz\"\n",
    "        imageName = root+'/'+dir + '/CT/' + \"CT_0000.nii.gz\"\n",
    "        df_temp = pd.DataFrame()\n",
    "        print(imageName)\n",
    "        featureVector = extractor.execute(imageName,maskName)\n",
    "        df_add = pd.DataFrame.from_dict(featureVector.values()).T\n",
    "        df_add.columns = featureVector.keys()\n",
    "        df_temp = pd.concat([df_temp, df_add],axis=1)\n",
    "        df_temp = df_temp.drop(df_temp.columns[0], axis=1)       \n",
    "        df_temp.insert(0,'Sub',dir)\n",
    "        df = pd.concat([df, df_temp],axis=0)\n",
    "\n",
    "\n",
    "        # if dirs:\n",
    "        #     print(dirs)\n",
    "        #     for dir in dirs:\n",
    "        #         for subroot,subdirs,subfiles in os.walk(root + '/'+ dir):\n",
    "        #             maskName = subroot + '/Task007_Pancreas_nnunet/' + \"CT1.nii.gz\"\n",
    "        #             print(maskName)\n",
    "        #             # print(subroot)\n",
    "        #             # print(subdirs)\n",
    "        #             # print(subfiles)\n",
    "        #             df_temp = pd.DataFrame()\n",
    "        #             for file in subfiles:\n",
    "        #                 if file == \"adc_Reg.nii\" or file == \"max_b_dwi_Reg.nii\" or file == \"CT_0000.nii.gz\":\n",
    "        #                     imageName = subroot + '/' + file\n",
    "        #                     print(imageName)\n",
    "        #                     featureVector = extractor.execute(imageName,maskName)\n",
    "        #                     df_add = pd.DataFrame.from_dict(featureVector.values()).T\n",
    "        #                     df_add.columns = featureVector.keys()\n",
    "        #                     df_temp = pd.concat([df_temp, df_add],axis=1)\n",
    "        #                     df_temp = df_temp.drop(df_temp.columns[0], axis=1)       \n",
    "        #                     df_temp.insert(0,'Sub',dir)\n",
    "        #                     print(df_temp)\n",
    "        #                 else:\n",
    "        #                     continue\n",
    "        #         df = pd.concat([df, df_temp],axis=0)\n",
    "        # else:\n",
    "        #     continue\n",
    "        # 遍历完第一级目录后退出循环\n",
    "    break\n",
    "df.to_excel(dataDir + 'results.xlsx')"
   ]
  },
  {
   "cell_type": "markdown",
   "id": "4b07bfd1-983e-4938-9440-52a68409eaea",
   "metadata": {},
   "source": [
    "## basic operation"
   ]
  },
  {
   "cell_type": "code",
   "execution_count": null,
   "id": "facd18c2-ba34-46d6-a7af-7123c68e517b",
   "metadata": {},
   "outputs": [],
   "source": [
    "# 导入数据\n",
    "A_filePath = 'E:/AIDataSet/Radiomics/numeric_feature.xlsx'\n",
    "B_filePath = 'E:/AIDataSet/Radiomics/B.xlsx'\n",
    "# 读取数据\n",
    "data_A = pd.read_excel(A_filePath)\n",
    "data_B = pd.read_excel(B_filePath)"
   ]
  },
  {
   "cell_type": "code",
   "execution_count": null,
   "id": "2c461746-152a-4ae4-9f3b-31a575056c95",
   "metadata": {},
   "outputs": [],
   "source": [
    "# 查看数据信息\n",
    "rows,cols = data_A.shape\n",
    "print(rows,cols)\n",
    "# 查看前几行\n",
    "data_A.head()"
   ]
  },
  {
   "cell_type": "code",
   "execution_count": null,
   "id": "1ae0709f-ebfb-4670-b4ff-2cc2b94b6754",
   "metadata": {},
   "outputs": [],
   "source": [
    "# 查看column名称\n",
    "print(data_A.columns)"
   ]
  },
  {
   "cell_type": "code",
   "execution_count": null,
   "id": "42ffd81b-8694-4f17-9bea-e9de72581205",
   "metadata": {},
   "outputs": [],
   "source": [
    "# 新增1列\n",
    "data_A.insert(0,'label',np.ones(rows))\n",
    "data_B.insert(0,'label',np.zeros(rows))"
   ]
  },
  {
   "cell_type": "code",
   "execution_count": null,
   "id": "e5982d0c-39bf-425a-87a4-15d2ce7ef99f",
   "metadata": {},
   "outputs": [],
   "source": [
    "# 数据混序\n",
    "data_A = shuffle(data_A)"
   ]
  },
  {
   "cell_type": "code",
   "execution_count": null,
   "id": "9a16776a-56f6-46b4-be59-41c31c853c4d",
   "metadata": {},
   "outputs": [],
   "source": [
    "# 排除NaN\n",
    "data_A['FeatureA'] = np.nan\n",
    "data_A.head()"
   ]
  },
  {
   "cell_type": "code",
   "execution_count": null,
   "id": "8f61865a-e057-43bf-b42a-ffa185e84154",
   "metadata": {},
   "outputs": [],
   "source": [
    "data_A = data_A.fillna(0)\n",
    "data_A.head()"
   ]
  },
  {
   "cell_type": "code",
   "execution_count": null,
   "id": "3d3cd1c0-9152-4f5f-a27c-3b5ef0090580",
   "metadata": {},
   "outputs": [],
   "source": [
    "# 定位数据\n",
    "# 选择多列\n",
    "data_A[['FeatureA','FeatureB']]\n",
    "# 选择多行\n",
    "data_A[0:2]\n",
    "data_A.iloc[1:3,2:3]"
   ]
  },
  {
   "cell_type": "markdown",
   "id": "12a9db90-123b-4dea-9708-665a88902381",
   "metadata": {},
   "source": [
    "## 特征选择：Variance"
   ]
  },
  {
   "cell_type": "code",
   "execution_count": null,
   "id": "2d067907-ece9-41a4-9573-9e01b04cac2a",
   "metadata": {},
   "outputs": [],
   "source": [
    "from sklearn.feature_selection import VarianceThreshold\n",
    "# exclude the label and patient No.\n",
    "X = data_A[data_A.columns[2:]]\n",
    "X.head()\n",
    "selector = VarianceThreshold(1e8)\n",
    "selector.fit_transform(X)\n",
    "#print('每个特征的方差为：'+str(selector.variances_))\n",
    "print('筛选出特征序号为：'+str(selector.get_support(True)))\n",
    "print('筛选出特征名称为：'+str(X.columns[selector.get_support(True)]))\n",
    "print('筛选掉特征名称为：'+str(X.columns[~ selector.get_support(True)]))"
   ]
  },
  {
   "cell_type": "markdown",
   "id": "d9bcb50b-6ec2-4a29-be09-59351554a274",
   "metadata": {},
   "source": [
    "## LASSO 特征筛选"
   ]
  },
  {
   "cell_type": "code",
   "execution_count": null,
   "id": "62cc0f8c-f9d6-4730-8acd-b3ff603b8470",
   "metadata": {},
   "outputs": [],
   "source": [
    "\n",
    "X = data_A[data_A.columns[2:]]\n",
    "y = data_A['label']\n",
    "colNames = X.columns\n",
    "X = X.astype(np.float64)\n",
    "# 标准化\n",
    "X = StandardScaler().fit_transform(X)\n",
    "X = pd.DataFrame(X)\n",
    "X.columns = colNames"
   ]
  },
  {
   "cell_type": "code",
   "execution_count": null,
   "id": "31b4d9df-7ff8-46f7-af5f-6e2036ab8741",
   "metadata": {},
   "outputs": [],
   "source": [
    "from sklearn.linear_model import LassoCV\n",
    "alphas = np.logspace(-3,1,50) # the regulation factors\n",
    "model_lassoCV = LassoCV(alphas=alphas,cv = 10, max_iter=100000).fit(X,y)"
   ]
  },
  {
   "cell_type": "code",
   "execution_count": null,
   "id": "38286fdd-fb10-4b01-a660-0882db72f5d2",
   "metadata": {},
   "outputs": [],
   "source": [
    "print(model_lassoCV.alpha_)\n",
    "coef = pd.Series(model_lassoCV.coef_, index=X.columns)\n",
    "# print(coef)\n",
    "print(\"Lasso picked \"+str(sum(coef != 0)) + \" variables and eliminated the other \"+ str(sum(coef == 0)))"
   ]
  },
  {
   "cell_type": "code",
   "execution_count": null,
   "id": "d826ba4e-b92d-424f-a10d-f3a330cb1931",
   "metadata": {},
   "outputs": [],
   "source": [
    "index = coef[coef != 0].index\n",
    "X = X[index]\n",
    "X.head()\n",
    "print(coef[coef != 0])"
   ]
  },
  {
   "cell_type": "markdown",
   "id": "b2d8f0dc-828a-4df8-b9d2-7d956eb916a2",
   "metadata": {},
   "source": [
    "## Demo for T-test"
   ]
  },
  {
   "cell_type": "code",
   "execution_count": null,
   "id": "869d7783-7b2e-415a-81f2-78fe19a3d920",
   "metadata": {},
   "outputs": [],
   "source": [
    "x = [1,2,4,7,2,4]\n",
    "y = [3,2,5,7,4]"
   ]
  },
  {
   "cell_type": "code",
   "execution_count": null,
   "id": "19566d02-4fc6-4418-9904-e62c1a413954",
   "metadata": {},
   "outputs": [],
   "source": [
    "levene(x,y)"
   ]
  },
  {
   "cell_type": "code",
   "execution_count": null,
   "id": "c386df5d-30d2-4be7-87b9-6d93cc43e5b2",
   "metadata": {},
   "outputs": [],
   "source": [
    "if levene(x,y)[1] > 0.05:\n",
    "    res = ttest_ind(x,y)\n",
    "else:\n",
    "    res = ttest_ind(x,y,equal_var = False)\n",
    "print(res)\n",
    "print(\"the p value =\"+ str(res[1]))"
   ]
  },
  {
   "cell_type": "code",
   "execution_count": 7,
   "id": "2c0220ab",
   "metadata": {},
   "outputs": [],
   "source": [
    "import nibabel as nib\n"
   ]
  },
  {
   "cell_type": "code",
   "execution_count": 22,
   "id": "6e600069-82a0-40d6-8d48-2e00e52c6bd4",
   "metadata": {},
   "outputs": [],
   "source": [
    "dataDir = 'E://02_MriDataSet//100_CT\\gongbingxin//20240413_ltx/images'\n",
    "maskDir= 'E://02_MriDataSet//100_CT\\gongbingxin//20240413_ltx/masks'\n",
    "TargetDir = 'E://02_MriDataSet//100_CT\\gongbingxin//20240413_ltx/newimages'\n"
   ]
  },
  {
   "cell_type": "code",
   "execution_count": null,
   "id": "7c561d8e",
   "metadata": {},
   "outputs": [],
   "source": [
    "df = pd.DataFrame()\n",
    "for root,dirs,files in os.walk(dataDir):\n",
    "        for file in files:\n",
    "            # print(os.path.join(root, file))\n",
    "            imageName=os.path.join(TargetDir, file)\n",
    "            maskName=os.path.join(maskDir, file)\n",
    "            print(imageName)\n",
    "            print(maskName)\n",
    "\n",
    "            imageNib = nib.load(imageName)\n",
    "            maskNib = nib.load(maskName)\n",
    "            \n",
    "            imageRawArr = imageNib.get_fdata()\n",
    "            print(imageArr.shape)\n",
    "\n",
    "            # maskArr = maskNib.get_fdata()\n",
    "            # imageArr = imageRawArr[:,:,0,0,0]\n",
    "            # imageArr = imageArr.reshape(imageArr.shape[0],imageArr.shape[1],1)\n",
    "            # # print(imageArr.shape)\n",
    "            # imageAffine = maskNib.affine.copy()\n",
    "            # imageHead = maskNib.header.copy()\n",
    "            # print(imageHead)\n",
    "            # imageNii = nib.Nifti1Image(imageArr,imageAffine,imageHead)\n",
    "            \n",
    "            # TarImageName=os.path.join(TargetDir, file)\n",
    "\n",
    "            # nib.save(imageNii,TarImageName)\n"
   ]
  }
 ],
 "metadata": {
  "kernelspec": {
   "display_name": "base",
   "language": "python",
   "name": "python3"
  },
  "language_info": {
   "codemirror_mode": {
    "name": "ipython",
    "version": 3
   },
   "file_extension": ".py",
   "mimetype": "text/x-python",
   "name": "python",
   "nbconvert_exporter": "python",
   "pygments_lexer": "ipython3",
   "version": "3.9.15"
  }
 },
 "nbformat": 4,
 "nbformat_minor": 5
}
